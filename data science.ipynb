{
 "cells": [
  {
   "cell_type": "markdown",
   "id": "9d80c2d5",
   "metadata": {},
   "source": [
    "# IMPORT LIBRARAY\n"
   ]
  },
  {
   "cell_type": "code",
   "execution_count": 1,
   "id": "e5c064a5",
   "metadata": {},
   "outputs": [],
   "source": [
    "import pandas as pd"
   ]
  },
  {
   "cell_type": "code",
   "execution_count": 2,
   "id": "bb13a3c5",
   "metadata": {},
   "outputs": [],
   "source": [
    "import numpy as np"
   ]
  },
  {
   "cell_type": "code",
   "execution_count": 3,
   "id": "d89a78ae",
   "metadata": {},
   "outputs": [],
   "source": [
    "import matplotlib.pyplot as plt"
   ]
  },
  {
   "cell_type": "markdown",
   "id": "17f82f07",
   "metadata": {},
   "source": [
    "# import data\n"
   ]
  },
  {
   "cell_type": "code",
   "execution_count": 4,
   "id": "302fd083",
   "metadata": {},
   "outputs": [],
   "source": [
    " from sklearn.datasets import load_digits"
   ]
  },
  {
   "cell_type": "code",
   "execution_count": 5,
   "id": "b75c60b2",
   "metadata": {},
   "outputs": [],
   "source": [
    "df=load_digits()"
   ]
  },
  {
   "cell_type": "code",
   "execution_count": 6,
   "id": "ee46986d",
   "metadata": {},
   "outputs": [
    {
     "data": {
      "image/png": "[encoded data removed]",
      "text/plain": [
       "<Figure size 1000x300 with 4 Axes>"
      ]
     },
     "metadata": {},
     "output_type": "display_data"
    }
   ],
   "source": [
    "_,axes =plt.subplots(nrows=1,ncols=4,figsize=(10,3))\n",
    "for ax,image,label in zip(axes,df.images,df.target):\n",
    "    ax.set_axis_off()\n",
    "    ax.imshow(image,cmap=plt.cm.gray_r,interpolation=\"nearest\")\n",
    "    ax.set_title(\"Training:%i\" % label)\n"
   ]
  },
  {
   "cell_type": "markdown",
   "id": "549c0636",
   "metadata": {},
   "source": [
    "# Data preprocessing"
   ]
  },
  {
   "cell_type": "code",
   "execution_count": 7,
   "id": "b76e7c2c",
   "metadata": {},
   "outputs": [
    {
     "data": {
      "text/plain": [
       "(1797, 8, 8)"
      ]
     },
     "execution_count": 7,
     "metadata": {},
     "output_type": "execute_result"
    }
   ],
   "source": [
    "df.images.shape"
   ]
  },
  {
   "cell_type": "code",
   "execution_count": 8,
   "id": "7c538003",
   "metadata": {},
   "outputs": [
    {
     "data": {
      "text/plain": [
       "array([[ 0.,  0.,  5., 13.,  9.,  1.,  0.,  0.],\n",
       "       [ 0.,  0., 13., 15., 10., 15.,  5.,  0.],\n",
       "       [ 0.,  3., 15.,  2.,  0., 11.,  8.,  0.],\n",
       "       [ 0.,  4., 12.,  0.,  0.,  8.,  8.,  0.],\n",
       "       [ 0.,  5.,  8.,  0.,  0.,  9.,  8.,  0.],\n",
       "       [ 0.,  4., 11.,  0.,  1., 12.,  7.,  0.],\n",
       "       [ 0.,  2., 14.,  5., 10., 12.,  0.,  0.],\n",
       "       [ 0.,  0.,  6., 13., 10.,  0.,  0.,  0.]])"
      ]
     },
     "execution_count": 8,
     "metadata": {},
     "output_type": "execute_result"
    }
   ],
   "source": [
    "df.images[0]"
   ]
  },
  {
   "cell_type": "code",
   "execution_count": 9,
   "id": "d0e28766",
   "metadata": {},
   "outputs": [
    {
     "data": {
      "text/plain": [
       "(8, 8)"
      ]
     },
     "execution_count": 9,
     "metadata": {},
     "output_type": "execute_result"
    }
   ],
   "source": [
    "df.images[0].shape"
   ]
  },
  {
   "cell_type": "code",
   "execution_count": 10,
   "id": "e39e5303",
   "metadata": {},
   "outputs": [
    {
     "data": {
      "text/plain": [
       "1797"
      ]
     },
     "execution_count": 10,
     "metadata": {},
     "output_type": "execute_result"
    }
   ],
   "source": [
    "len(df.images)"
   ]
  },
  {
   "cell_type": "code",
   "execution_count": 11,
   "id": "8964834d",
   "metadata": {},
   "outputs": [],
   "source": [
    "n_samples =len(df.images)\n",
    "data = df.images.reshape((n_samples, -1))"
   ]
  },
  {
   "cell_type": "code",
   "execution_count": 12,
   "id": "21a8bed8",
   "metadata": {},
   "outputs": [
    {
     "data": {
      "text/plain": [
       "array([ 0.,  0.,  5., 13.,  9.,  1.,  0.,  0.,  0.,  0., 13., 15., 10.,\n",
       "       15.,  5.,  0.,  0.,  3., 15.,  2.,  0., 11.,  8.,  0.,  0.,  4.,\n",
       "       12.,  0.,  0.,  8.,  8.,  0.,  0.,  5.,  8.,  0.,  0.,  9.,  8.,\n",
       "        0.,  0.,  4., 11.,  0.,  1., 12.,  7.,  0.,  0.,  2., 14.,  5.,\n",
       "       10., 12.,  0.,  0.,  0.,  0.,  6., 13., 10.,  0.,  0.,  0.])"
      ]
     },
     "execution_count": 12,
     "metadata": {},
     "output_type": "execute_result"
    }
   ],
   "source": [
    "data[0]"
   ]
  },
  {
   "cell_type": "code",
   "execution_count": 13,
   "id": "ef422046",
   "metadata": {},
   "outputs": [
    {
     "data": {
      "text/plain": [
       "(64,)"
      ]
     },
     "execution_count": 13,
     "metadata": {},
     "output_type": "execute_result"
    }
   ],
   "source": [
    "data[0].shape"
   ]
  },
  {
   "cell_type": "code",
   "execution_count": 14,
   "id": "6ab9fa08",
   "metadata": {},
   "outputs": [
    {
     "data": {
      "text/plain": [
       "(1797, 64)"
      ]
     },
     "execution_count": 14,
     "metadata": {},
     "output_type": "execute_result"
    }
   ],
   "source": [
    "data.shape"
   ]
  },
  {
   "cell_type": "markdown",
   "id": "e09c0668",
   "metadata": {},
   "source": [
    "# Scaling image Data"
   ]
  },
  {
   "cell_type": "code",
   "execution_count": 15,
   "id": "4d57d019",
   "metadata": {},
   "outputs": [
    {
     "data": {
      "text/plain": [
       "0.0"
      ]
     },
     "execution_count": 15,
     "metadata": {},
     "output_type": "execute_result"
    }
   ],
   "source": [
    "data.min()\n"
   ]
  },
  {
   "cell_type": "code",
   "execution_count": 16,
   "id": "0111aff9",
   "metadata": {},
   "outputs": [
    {
     "data": {
      "text/plain": [
       "16.0"
      ]
     },
     "execution_count": 16,
     "metadata": {},
     "output_type": "execute_result"
    }
   ],
   "source": [
    "data.max()"
   ]
  },
  {
   "cell_type": "code",
   "execution_count": 17,
   "id": "4e3662fe",
   "metadata": {},
   "outputs": [],
   "source": [
    "data=data/16"
   ]
  },
  {
   "cell_type": "code",
   "execution_count": 18,
   "id": "24628a2e",
   "metadata": {},
   "outputs": [
    {
     "data": {
      "text/plain": [
       "0.0"
      ]
     },
     "execution_count": 18,
     "metadata": {},
     "output_type": "execute_result"
    }
   ],
   "source": [
    "data.min()"
   ]
  },
  {
   "cell_type": "code",
   "execution_count": 19,
   "id": "592c9fdc",
   "metadata": {},
   "outputs": [
    {
     "data": {
      "text/plain": [
       "array([0.    , 0.    , 0.3125, 0.8125, 0.5625, 0.0625, 0.    , 0.    ,\n",
       "       0.    , 0.    , 0.8125, 0.9375, 0.625 , 0.9375, 0.3125, 0.    ,\n",
       "       0.    , 0.1875, 0.9375, 0.125 , 0.    , 0.6875, 0.5   , 0.    ,\n",
       "       0.    , 0.25  , 0.75  , 0.    , 0.    , 0.5   , 0.5   , 0.    ,\n",
       "       0.    , 0.3125, 0.5   , 0.    , 0.    , 0.5625, 0.5   , 0.    ,\n",
       "       0.    , 0.25  , 0.6875, 0.    , 0.0625, 0.75  , 0.4375, 0.    ,\n",
       "       0.    , 0.125 , 0.875 , 0.3125, 0.625 , 0.75  , 0.    , 0.    ,\n",
       "       0.    , 0.    , 0.375 , 0.8125, 0.625 , 0.    , 0.    , 0.    ])"
      ]
     },
     "execution_count": 19,
     "metadata": {},
     "output_type": "execute_result"
    }
   ],
   "source": [
    "data[0]"
   ]
  },
  {
   "cell_type": "markdown",
   "id": "05f9850d",
   "metadata": {},
   "source": [
    "# Train Test Split Data"
   ]
  },
  {
   "cell_type": "code",
   "execution_count": 20,
   "id": "77fd9f20",
   "metadata": {},
   "outputs": [],
   "source": [
    "from sklearn.model_selection import train_test_split"
   ]
  },
  {
   "cell_type": "code",
   "execution_count": 21,
   "id": "52a4df5a",
   "metadata": {},
   "outputs": [],
   "source": [
    "x_train, x_test, y_train, y_test=train_test_split(data,df.target,test_size=0.3)\n"
   ]
  },
  {
   "cell_type": "code",
   "execution_count": 22,
   "id": "20264db7",
   "metadata": {},
   "outputs": [
    {
     "data": {
      "text/plain": [
       "((1257, 64), (540, 64), (1257,), (540,))"
      ]
     },
     "execution_count": 22,
     "metadata": {},
     "output_type": "execute_result"
    }
   ],
   "source": [
    "x_train.shape, x_test.shape, y_train.shape, y_test.shape"
   ]
  },
  {
   "cell_type": "markdown",
   "id": "512a6abb",
   "metadata": {},
   "source": [
    "# Random Forest Model"
   ]
  },
  {
   "cell_type": "code",
   "execution_count": 23,
   "id": "c843a34b",
   "metadata": {},
   "outputs": [],
   "source": [
    "from sklearn.ensemble import RandomForestClassifier"
   ]
  },
  {
   "cell_type": "code",
   "execution_count": 24,
   "id": "02818ab1",
   "metadata": {},
   "outputs": [],
   "source": [
    "rf= RandomForestClassifier()"
   ]
  },
  {
   "cell_type": "code",
   "execution_count": 25,
   "id": "ba751ce4",
   "metadata": {},
   "outputs": [
    {
     "data": {
      "text/html": [
       "<style>#sk-container-id-1 {color: black;background-color: white;}#sk-container-id-1 pre{padding: 0;}#sk-container-id-1 div.sk-toggleable {background-color: white;}#sk-container-id-1 label.sk-toggleable__label {cursor: pointer;display: block;width: 100%;margin-bottom: 0;padding: 0.3em;box-sizing: border-box;text-align: center;}#sk-container-id-1 label.sk-toggleable__label-arrow:before {content: \"▸\";float: left;margin-right: 0.25em;color: #696969;}#sk-container-id-1 label.sk-toggleable__label-arrow:hover:before {color: black;}#sk-container-id-1 div.sk-estimator:hover label.sk-toggleable__label-arrow:before {color: black;}#sk-container-id-1 div.sk-toggleable__content {max-height: 0;max-width: 0;overflow: hidden;text-align: left;background-color: #f0f8ff;}#sk-container-id-1 div.sk-toggleable__content pre {margin: 0.2em;color: black;border-radius: 0.25em;background-color: #f0f8ff;}#sk-container-id-1 input.sk-toggleable__control:checked~div.sk-toggleable__content {max-height: 200px;max-width: 100%;overflow: auto;}#sk-container-id-1 input.sk-toggleable__control:checked~label.sk-toggleable__label-arrow:before {content: \"▾\";}#sk-container-id-1 div.sk-estimator input.sk-toggleable__control:checked~label.sk-toggleable__label {background-color: #d4ebff;}#sk-container-id-1 div.sk-label input.sk-toggleable__control:checked~label.sk-toggleable__label {background-color: #d4ebff;}#sk-container-id-1 input.sk-hidden--visually {border: 0;clip: rect(1px 1px 1px 1px);clip: rect(1px, 1px, 1px, 1px);height: 1px;margin: -1px;overflow: hidden;padding: 0;position: absolute;width: 1px;}#sk-container-id-1 div.sk-estimator {font-family: monospace;background-color: #f0f8ff;border: 1px dotted black;border-radius: 0.25em;box-sizing: border-box;margin-bottom: 0.5em;}#sk-container-id-1 div.sk-estimator:hover {background-color: #d4ebff;}#sk-container-id-1 div.sk-parallel-item::after {content: \"\";width: 100%;border-bottom: 1px solid gray;flex-grow: 1;}#sk-container-id-1 div.sk-label:hover label.sk-toggleable__label {background-color: #d4ebff;}#sk-container-id-1 div.sk-serial::before {content: \"\";position: absolute;border-left: 1px solid gray;box-sizing: border-box;top: 0;bottom: 0;left: 50%;z-index: 0;}#sk-container-id-1 div.sk-serial {display: flex;flex-direction: column;align-items: center;background-color: white;padding-right: 0.2em;padding-left: 0.2em;position: relative;}#sk-container-id-1 div.sk-item {position: relative;z-index: 1;}#sk-container-id-1 div.sk-parallel {display: flex;align-items: stretch;justify-content: center;background-color: white;position: relative;}#sk-container-id-1 div.sk-item::before, #sk-container-id-1 div.sk-parallel-item::before {content: \"\";position: absolute;border-left: 1px solid gray;box-sizing: border-box;top: 0;bottom: 0;left: 50%;z-index: -1;}#sk-container-id-1 div.sk-parallel-item {display: flex;flex-direction: column;z-index: 1;position: relative;background-color: white;}#sk-container-id-1 div.sk-parallel-item:first-child::after {align-self: flex-end;width: 50%;}#sk-container-id-1 div.sk-parallel-item:last-child::after {align-self: flex-start;width: 50%;}#sk-container-id-1 div.sk-parallel-item:only-child::after {width: 0;}#sk-container-id-1 div.sk-dashed-wrapped {border: 1px dashed gray;margin: 0 0.4em 0.5em 0.4em;box-sizing: border-box;padding-bottom: 0.4em;background-color: white;}#sk-container-id-1 div.sk-label label {font-family: monospace;font-weight: bold;display: inline-block;line-height: 1.2em;}#sk-container-id-1 div.sk-label-container {text-align: center;}#sk-container-id-1 div.sk-container {/* jupyter's `normalize.less` sets `[hidden] { display: none; }` but bootstrap.min.css set `[hidden] { display: none !important; }` so we also need the `!important` here to be able to override the default hidden behavior on the sphinx rendered scikit-learn.org. See: https://github.com/scikit-learn/scikit-learn/issues/21755 */display: inline-block !important;position: relative;}#sk-container-id-1 div.sk-text-repr-fallback {display: none;}</style><div id=\"sk-container-id-1\" class=\"sk-top-container\"><div class=\"sk-text-repr-fallback\"><pre>RandomForestClassifier()</pre><b>In a Jupyter environment, please rerun this cell to show the HTML representation or trust the notebook. <br />On GitHub, the HTML representation is unable to render, please try loading this page with nbviewer.org.</b></div><div class=\"sk-container\" hidden><div class=\"sk-item\"><div class=\"sk-estimator sk-toggleable\"><input class=\"sk-toggleable__control sk-hidden--visually\" id=\"sk-estimator-id-1\" type=\"checkbox\" checked><label for=\"sk-estimator-id-1\" class=\"sk-toggleable__label sk-toggleable__label-arrow\">RandomForestClassifier</label><div class=\"sk-toggleable__content\"><pre>RandomForestClassifier()</pre></div></div></div></div></div>"
      ],
      "text/plain": [
       "RandomForestClassifier()"
      ]
     },
     "execution_count": 25,
     "metadata": {},
     "output_type": "execute_result"
    }
   ],
   "source": [
    "rf.fit(x_train, y_train)"
   ]
  },
  {
   "cell_type": "markdown",
   "id": "7fd1d93c",
   "metadata": {},
   "source": [
    "# Predict Test Data"
   ]
  },
  {
   "cell_type": "code",
   "execution_count": 27,
   "id": "11275fb0",
   "metadata": {},
   "outputs": [],
   "source": [
    "y_pred =rf.predict(x_test)"
   ]
  },
  {
   "cell_type": "code",
   "execution_count": 28,
   "id": "dafae751",
   "metadata": {},
   "outputs": [
    {
     "data": {
      "text/plain": [
       "array([4, 1, 7, 0, 5, 5, 5, 1, 1, 1, 3, 2, 2, 3, 5, 9, 9, 1, 0, 9, 5, 2,\n",
       "       2, 8, 9, 3, 0, 5, 1, 1, 7, 0, 5, 8, 9, 4, 2, 8, 6, 1, 9, 7, 6, 8,\n",
       "       5, 9, 7, 3, 7, 5, 3, 1, 3, 7, 2, 7, 2, 4, 6, 2, 6, 7, 7, 7, 4, 9,\n",
       "       2, 8, 2, 9, 0, 1, 6, 6, 5, 2, 0, 8, 9, 1, 1, 1, 7, 9, 4, 7, 4, 1,\n",
       "       4, 2, 3, 8, 2, 3, 0, 6, 9, 7, 5, 9, 3, 5, 4, 5, 0, 9, 2, 9, 5, 4,\n",
       "       5, 0, 9, 9, 3, 6, 8, 0, 4, 4, 0, 0, 7, 5, 0, 6, 8, 9, 2, 8, 9, 1,\n",
       "       5, 2, 3, 9, 7, 7, 2, 0, 9, 4, 3, 3, 0, 5, 1, 2, 2, 0, 6, 6, 4, 3,\n",
       "       2, 3, 6, 4, 8, 8, 9, 4, 2, 5, 9, 9, 0, 7, 4, 1, 9, 0, 5, 9, 6, 3,\n",
       "       6, 3, 5, 0, 7, 1, 5, 2, 4, 2, 6, 1, 3, 0, 7, 1, 1, 4, 0, 6, 0, 6,\n",
       "       6, 0, 0, 3, 5, 7, 5, 8, 1, 5, 8, 5, 4, 5, 0, 3, 2, 8, 5, 4, 4, 9,\n",
       "       9, 4, 2, 9, 0, 4, 7, 3, 9, 6, 9, 6, 1, 2, 2, 5, 2, 3, 0, 2, 0, 7,\n",
       "       5, 2, 9, 3, 2, 0, 3, 5, 3, 8, 4, 3, 8, 6, 6, 7, 9, 0, 8, 1, 1, 0,\n",
       "       3, 9, 3, 1, 2, 8, 8, 7, 9, 3, 1, 3, 1, 3, 9, 7, 9, 7, 1, 4, 7, 1,\n",
       "       7, 2, 1, 6, 7, 4, 7, 8, 8, 7, 1, 5, 4, 8, 1, 5, 4, 8, 8, 9, 6, 9,\n",
       "       4, 9, 4, 9, 1, 7, 8, 7, 3, 1, 6, 1, 8, 5, 0, 3, 3, 7, 7, 1, 4, 5,\n",
       "       2, 3, 9, 7, 2, 9, 4, 7, 4, 3, 3, 1, 4, 2, 0, 6, 2, 2, 4, 5, 7, 1,\n",
       "       3, 5, 3, 9, 6, 1, 3, 6, 4, 1, 8, 1, 5, 8, 7, 3, 7, 5, 2, 2, 5, 0,\n",
       "       6, 3, 1, 7, 4, 6, 2, 9, 5, 9, 4, 8, 5, 8, 2, 1, 0, 3, 5, 6, 2, 0,\n",
       "       7, 3, 0, 8, 2, 0, 7, 5, 3, 6, 7, 4, 1, 7, 7, 5, 0, 9, 3, 7, 2, 4,\n",
       "       6, 7, 7, 8, 5, 4, 2, 5, 0, 9, 3, 9, 7, 8, 3, 3, 4, 4, 6, 8, 6, 3,\n",
       "       2, 4, 4, 5, 6, 8, 0, 0, 4, 8, 4, 7, 4, 8, 8, 5, 1, 9, 9, 9, 5, 8,\n",
       "       0, 2, 1, 0, 8, 1, 6, 6, 4, 3, 2, 7, 4, 8, 3, 3, 3, 0, 7, 3, 4, 0,\n",
       "       0, 7, 6, 1, 4, 1, 3, 4, 2, 9, 6, 0, 6, 8, 4, 9, 6, 9, 8, 6, 7, 6,\n",
       "       0, 0, 8, 1, 6, 6, 2, 2, 5, 9, 7, 4, 6, 9, 3, 3, 9, 1, 4, 4, 4, 6,\n",
       "       1, 8, 1, 0, 4, 4, 6, 8, 1, 5, 0, 7])"
      ]
     },
     "execution_count": 28,
     "metadata": {},
     "output_type": "execute_result"
    }
   ],
   "source": [
    "y_pred"
   ]
  },
  {
   "cell_type": "markdown",
   "id": "1dd30d9a",
   "metadata": {},
   "source": [
    "# Model Accuracy"
   ]
  },
  {
   "cell_type": "code",
   "execution_count": 29,
   "id": "babefb12",
   "metadata": {},
   "outputs": [],
   "source": [
    "from sklearn.metrics import confusion_matrix ,classification_report"
   ]
  },
  {
   "cell_type": "code",
   "execution_count": 30,
   "id": "a866d8b4",
   "metadata": {},
   "outputs": [
    {
     "data": {
      "text/plain": [
       "array([[52,  0,  0,  0,  0,  0,  0,  0,  0,  0],\n",
       "       [ 0, 52,  0,  0,  0,  0,  0,  0,  0,  0],\n",
       "       [ 0,  0, 51,  0,  0,  0,  0,  0,  0,  0],\n",
       "       [ 0,  0,  0, 57,  0,  1,  0,  1,  1,  0],\n",
       "       [ 0,  0,  0,  0, 60,  0,  0,  1,  0,  0],\n",
       "       [ 0,  0,  0,  0,  0, 49,  0,  0,  0,  0],\n",
       "       [ 0,  1,  0,  0,  0,  0, 49,  0,  0,  0],\n",
       "       [ 0,  0,  0,  0,  0,  0,  0, 55,  0,  0],\n",
       "       [ 0,  2,  1,  0,  0,  1,  0,  0, 46,  0],\n",
       "       [ 0,  0,  0,  1,  0,  1,  0,  0,  0, 58]], dtype=int64)"
      ]
     },
     "execution_count": 30,
     "metadata": {},
     "output_type": "execute_result"
    }
   ],
   "source": [
    "confusion_matrix(y_test,y_pred)"
   ]
  },
  {
   "cell_type": "code",
   "execution_count": 31,
   "id": "de265b8d",
   "metadata": {},
   "outputs": [
    {
     "name": "stdout",
     "output_type": "stream",
     "text": [
      "              precision    recall  f1-score   support\n",
      "\n",
      "           0       1.00      1.00      1.00        52\n",
      "           1       0.95      1.00      0.97        52\n",
      "           2       0.98      1.00      0.99        51\n",
      "           3       0.98      0.95      0.97        60\n",
      "           4       1.00      0.98      0.99        61\n",
      "           5       0.94      1.00      0.97        49\n",
      "           6       1.00      0.98      0.99        50\n",
      "           7       0.96      1.00      0.98        55\n",
      "           8       0.98      0.92      0.95        50\n",
      "           9       1.00      0.97      0.98        60\n",
      "\n",
      "    accuracy                           0.98       540\n",
      "   macro avg       0.98      0.98      0.98       540\n",
      "weighted avg       0.98      0.98      0.98       540\n",
      "\n"
     ]
    }
   ],
   "source": [
    "print(classification_report(y_test,y_pred))"
   ]
  },
  {
   "cell_type": "code",
   "execution_count": null,
   "id": "ecdafb69",
   "metadata": {},
   "outputs": [],
   "source": []
  }
 ],
 "metadata": {
  "kernelspec": {
   "display_name": "Python 3 (ipykernel)",
   "language": "python",
   "name": "python3"
  },
  "language_info": {
   "codemirror_mode": {
    "name": "ipython",
    "version": 3
   },
   "file_extension": ".py",
   "mimetype": "text/x-python",
   "name": "python",
   "nbconvert_exporter": "python",
   "pygments_lexer": "ipython3",
   "version": "3.11.3"
  }
 },
 "nbformat": 4,
 "nbformat_minor": 5
}
